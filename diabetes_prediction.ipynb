{
  "nbformat": 4,
  "nbformat_minor": 0,
  "metadata": {
    "colab": {
      "provenance": [],
      "authorship_tag": "ABX9TyNrlrS6RZ1jSN38wQd8aR7Z",
      "include_colab_link": true
    },
    "kernelspec": {
      "name": "python3",
      "display_name": "Python 3"
    },
    "language_info": {
      "name": "python"
    }
  },
  "cells": [
    {
      "cell_type": "markdown",
      "metadata": {
        "id": "view-in-github",
        "colab_type": "text"
      },
      "source": [
        "<a href=\"https://colab.research.google.com/github/simsekahmet/predict_having_diabetes/blob/main/diabetes_prediction.ipynb\" target=\"_parent\"><img src=\"https://colab.research.google.com/assets/colab-badge.svg\" alt=\"Open In Colab\"/></a>"
      ]
    },
    {
      "cell_type": "markdown",
      "source": [
        "**Import Libraries**"
      ],
      "metadata": {
        "id": "RASSSmpgUyDt"
      }
    },
    {
      "cell_type": "code",
      "execution_count": null,
      "metadata": {
        "id": "lMmxATFNUXsd"
      },
      "outputs": [],
      "source": [
        "import pandas as pd\n",
        "import numpy as np\n",
        "import tensorflow as tf\n",
        "import seaborn as sns\n",
        "import matplotlib.pyplot as plt\n",
        "from sklearn.model_selection import train_test_split\n",
        "from sklearn.preprocessing import StandardScaler\n",
        "\n",
        "sns.set()"
      ]
    },
    {
      "cell_type": "markdown",
      "source": [
        "**Import data and First Look, Preprocessing**"
      ],
      "metadata": {
        "id": "JFwEDRNtU5lx"
      }
    },
    {
      "cell_type": "code",
      "source": [
        "df = pd.read_csv(\"diabetes_prediction_dataset.csv\")\n",
        "def check_df(df):\n",
        "\n",
        "    \"\"\"First look at dataframe\n",
        "    -------------------\n",
        "    Args:\n",
        "        df (pandas.core.frame.DataFrame): data\n",
        "    -------------------\n",
        "    Returns:\n",
        "        info: information of dataframe\n",
        "        dtypes: types of columns\n",
        "        shape: shpe of the dataframe\n",
        "        head: first 5 row of dataframe\n",
        "        tail: last 5 row of dataframe\n",
        "        describe: statistical info of dataframe columns'\n",
        "        Loss Value (NA): if there is any loss value or not\n",
        "\n",
        "    \"\"\"\n",
        "    df_copy = df.copy()\n",
        "    print(\"#################### info ####################\")\n",
        "    print(df.info())\n",
        "    print(\"\\n#################### dtype ####################\")\n",
        "    print(df.dtypes)\n",
        "    print(\"\\n#################### shape ####################\")\n",
        "    print(df.shape)\n",
        "    print(\"\\n#################### head ####################\")\n",
        "    print(df.head())\n",
        "    print(\"\\n#################### tail ####################\")\n",
        "    print(df.tail())\n",
        "    print(\"\\n#################### statistical evaluation ####################\")\n",
        "    print(df.describe([0, 0.05, 0.25, 0.5, 0.75, 0.95, 0.99, 1]).T)\n",
        "    print(\"\\n#################### Loss Value (NA) ####################\")\n",
        "    if df.isnull().values.any() == True:\n",
        "        print(\"Sum of Loss Value:\")\n",
        "        print(df.isnull().sum())\n",
        "    else:\n",
        "        print(\"**There is no loss data**\")\n",
        "    return df_copy\n",
        "\n",
        "pd.set_option(\"display.max_columns\", None)\n",
        "pd.set_option(\"display.float_format\", lambda x: \"%.2f\" % x)\n",
        "\n",
        "df.head()\n"
      ],
      "metadata": {
        "id": "jQSEBIhzU41r"
      },
      "execution_count": null,
      "outputs": []
    },
    {
      "cell_type": "code",
      "source": [
        "df_copy = check_df(df)"
      ],
      "metadata": {
        "id": "W2na3hGWVB0S"
      },
      "execution_count": null,
      "outputs": []
    },
    {
      "cell_type": "markdown",
      "source": [
        "*Change gender values to 1 or 0*"
      ],
      "metadata": {
        "id": "dFVFEVmSVDW-"
      }
    },
    {
      "cell_type": "code",
      "source": [
        "df = df[df[\"gender\"] != \"Other\"]\n",
        "print(df[\"gender\"].unique())"
      ],
      "metadata": {
        "id": "IZD-oXrHVG7R"
      },
      "execution_count": null,
      "outputs": []
    },
    {
      "cell_type": "code",
      "source": [
        "df[\"gender\"] = df[\"gender\"].map({\"Female\": 0, \"Male\": 1})\n",
        "df.head()"
      ],
      "metadata": {
        "id": "JkHmGg5fVIjf"
      },
      "execution_count": null,
      "outputs": []
    },
    {
      "cell_type": "markdown",
      "source": [
        "*Delete float type of age column*"
      ],
      "metadata": {
        "id": "yirxvo54VLaS"
      }
    },
    {
      "cell_type": "code",
      "source": [
        "df[\"age\"] = df[\"age\"].astype(int)\n",
        "\n",
        "print(df[\"age\"].unique())\n"
      ],
      "metadata": {
        "id": "TwXCdwdOVKEa"
      },
      "execution_count": null,
      "outputs": []
    },
    {
      "cell_type": "markdown",
      "source": [
        "*Change smoking history object values to numerical data*"
      ],
      "metadata": {
        "id": "dQz_GkIXVQsV"
      }
    },
    {
      "cell_type": "code",
      "source": [
        "df = df[df[\"smoking_history\"] != \"No Info\"]\n",
        "df[\"smoking_history\"] = df[\"smoking_history\"].map({\"never\": 0, \"current\": 1, \"former\": 2, \"ever\": 3, \"not current\": 4})\n",
        "\n",
        "print(df[\"smoking_history\"].head())\n"
      ],
      "metadata": {
        "id": "gAGGuEIMVP-1"
      },
      "execution_count": null,
      "outputs": []
    },
    {
      "cell_type": "markdown",
      "source": [
        "**First Checkpoint**"
      ],
      "metadata": {
        "id": "AFWdsXCwVZ8w"
      }
    },
    {
      "cell_type": "code",
      "source": [
        "df_checkpoint_1 = df"
      ],
      "metadata": {
        "id": "bjkOnpgzVcgS"
      },
      "execution_count": null,
      "outputs": []
    },
    {
      "cell_type": "markdown",
      "source": [
        "**Deep Learning**"
      ],
      "metadata": {
        "id": "pTqr98KPVebW"
      }
    },
    {
      "cell_type": "markdown",
      "source": [
        "*Split into inputs and target*"
      ],
      "metadata": {
        "id": "1KFKeCUIVoPU"
      }
    },
    {
      "cell_type": "code",
      "source": [
        "inputs = df.iloc[:, 0:8].to_numpy()\n",
        "target = df.iloc[:,-1].to_numpy().reshape(-1,1)"
      ],
      "metadata": {
        "id": "YxGweYkCVs1W"
      },
      "execution_count": null,
      "outputs": []
    },
    {
      "cell_type": "markdown",
      "source": [
        "*Split into training, validation, test sets and Standardization*"
      ],
      "metadata": {
        "id": "Vef4xq8FVf9w"
      }
    },
    {
      "cell_type": "code",
      "source": [
        "# Split the data into training, validation, and testing sets\n",
        "X_train, X_test, y_train, y_test = train_test_split(inputs, target, test_size=0.2, random_state=42)\n",
        "X_train, X_val, y_train, y_val = train_test_split(X_train, y_train, test_size=0.2, random_state=42)\n",
        "\n",
        "# Perform feature scaling\n",
        "scaler = StandardScaler()\n",
        "X_train_scaled = scaler.fit_transform(X_train)\n",
        "X_val_scaled = scaler.transform(X_val)\n",
        "X_test_scaled = scaler.transform(X_test)"
      ],
      "metadata": {
        "id": "WxVxlcv5VdyV"
      },
      "execution_count": null,
      "outputs": []
    },
    {
      "cell_type": "markdown",
      "source": [
        "*Creating Deep Learning Model*"
      ],
      "metadata": {
        "id": "oexC8GslVwwa"
      }
    },
    {
      "cell_type": "code",
      "source": [
        "input_size = 8\n",
        "output_size = 1\n",
        "hidden_layer_1 = 64\n",
        "hidden_layer_2 = 32\n",
        "NUM_EPOCHS = 20\n",
        "\n",
        "model = tf.keras.Sequential([tf.keras.layers.Dense(units= hidden_layer_1,\n",
        "                                                   activation = \"relu\",\n",
        "                                                   input_shape=(input_size,)),\n",
        "                             tf.keras.layers.Dense(units = hidden_layer_2,\n",
        "                                                   activation = \"relu\"),\n",
        "                             tf.keras.layers.Dense(units = output_size,\n",
        "                                                   activation = \"sigmoid\"),\n",
        "                            ])\n",
        "\n",
        "model.compile(optimizer = \"adam\",\n",
        "              loss = \"binary_crossentropy\",\n",
        "              metrics = [\"accuracy\"])\n",
        "\n",
        "earlystopping = tf.keras.callbacks.EarlyStopping(patience=1, restore_best_weights=True)\n",
        "\n",
        "model_ = model.fit(X_train_scaled,\n",
        "          y_train,\n",
        "          epochs=NUM_EPOCHS,\n",
        "          verbose=1,\n",
        "          batch_size=32,\n",
        "          callbacks=earlystopping,\n",
        "          validation_data=(X_val_scaled,\n",
        "                           y_val))"
      ],
      "metadata": {
        "id": "UC7RpCXTVvix"
      },
      "execution_count": null,
      "outputs": []
    },
    {
      "cell_type": "markdown",
      "source": [
        "*Finding test loss and accuracy*"
      ],
      "metadata": {
        "id": "G3GUKN9wV37m"
      }
    },
    {
      "cell_type": "code",
      "source": [
        "loss, accuracy = model.evaluate(X_test_scaled, y_test)\n",
        "print(f'Test Loss: {loss:.4f}')\n",
        "print(f'Test Accuracy: {accuracy:.4f}')"
      ],
      "metadata": {
        "id": "crHD6hPDV251"
      },
      "execution_count": null,
      "outputs": []
    },
    {
      "cell_type": "markdown",
      "source": [
        "*Plot Train and Validation Loss*"
      ],
      "metadata": {
        "id": "UfsGa7btV8qd"
      }
    },
    {
      "cell_type": "code",
      "source": [
        "# Plot the loss graph\n",
        "plt.plot(model_.history['loss'], label='Training Loss')\n",
        "plt.plot(model_.history['val_loss'], label='Validation Loss')\n",
        "plt.xlabel('Epoch')\n",
        "plt.ylabel('Loss')\n",
        "plt.title('Training and Validation Loss')\n",
        "plt.legend()\n",
        "plt.show()"
      ],
      "metadata": {
        "id": "CX9nYPzkWBCD"
      },
      "execution_count": null,
      "outputs": []
    },
    {
      "cell_type": "markdown",
      "source": [
        "*Saving model and predict new data*"
      ],
      "metadata": {
        "id": "dxBTN1mZWDW-"
      }
    },
    {
      "cell_type": "code",
      "source": [
        "model.save('diabetes_model.h5')\n",
        "loaded_model = tf.keras.models.load_model('diabetes_model.h5')"
      ],
      "metadata": {
        "id": "hTijLxhrWGM0"
      },
      "execution_count": null,
      "outputs": []
    },
    {
      "cell_type": "code",
      "source": [
        "new_data = np.array([[0, 24, 0, 0, 0, 29.32, 5.52, 138.05]])\n",
        "\n",
        "new_data_scaled = scaler.transform(new_data)\n",
        "predictions = loaded_model.predict(new_data_scaled)\n",
        "print(\"The probability of having diabetes:\", 100*predictions[0][0])"
      ],
      "metadata": {
        "id": "Q1J8mSTwWIn5"
      },
      "execution_count": null,
      "outputs": []
    }
  ]
}